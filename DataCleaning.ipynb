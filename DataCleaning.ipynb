{
  "nbformat": 4,
  "nbformat_minor": 0,
  "metadata": {
    "colab": {
      "provenance": []
    },
    "kernelspec": {
      "name": "python3",
      "display_name": "Python 3"
    },
    "language_info": {
      "name": "python"
    }
  },
  "cells": [
    {
      "cell_type": "code",
      "execution_count": null,
      "metadata": {
        "colab": {
          "base_uri": "https://localhost:8080/"
        },
        "id": "A0GEkR-DpArL",
        "outputId": "e19b48b4-44ab-4649-efc3-082bc5d9c115"
      },
      "outputs": [
        {
          "output_type": "stream",
          "name": "stdout",
          "text": [
            "Original Data Summary:\n",
            "<class 'pandas.core.frame.DataFrame'>\n",
            "RangeIndex: 541909 entries, 0 to 541908\n",
            "Data columns (total 9 columns):\n",
            " #   Column       Non-Null Count   Dtype         \n",
            "---  ------       --------------   -----         \n",
            " 0   InvoiceNo    541909 non-null  object        \n",
            " 1   StockCode    541909 non-null  object        \n",
            " 2   Description  540455 non-null  object        \n",
            " 3   Quantity     541909 non-null  int64         \n",
            " 4   InvoiceDate  541909 non-null  datetime64[ns]\n",
            " 5   InvoiceTime  541909 non-null  datetime64[ns]\n",
            " 6   UnitPrice    541909 non-null  float64       \n",
            " 7   CustomerID   406829 non-null  float64       \n",
            " 8   Country      541909 non-null  object        \n",
            "dtypes: datetime64[ns](2), float64(2), int64(1), object(4)\n",
            "memory usage: 37.2+ MB\n",
            "None\n"
          ]
        }
      ],
      "source": [
        "import pandas as pd\n",
        "\n",
        "# Load the dataset (assuming it's in Excel format)\n",
        "df = pd.read_excel(\"OnlineRetail.xlsx\")\n",
        "\n",
        "# Display basic information about the dataset\n",
        "print(\"Original Data Summary:\")\n",
        "print(df.info())\n"
      ]
    },
    {
      "cell_type": "code",
      "source": [
        "columns_to_drop = ['Description', 'InvoiceNo']\n",
        "df = df.drop(columns=columns_to_drop, errors='ignore')"
      ],
      "metadata": {
        "id": "Xqd8DJEAyhzU"
      },
      "execution_count": null,
      "outputs": []
    },
    {
      "cell_type": "code",
      "source": [
        "df = df.dropna()"
      ],
      "metadata": {
        "id": "tPvio8e-ykfi"
      },
      "execution_count": null,
      "outputs": []
    },
    {
      "cell_type": "code",
      "source": [
        "df = df[(df['Quantity'] >= 0) & (df['UnitPrice'] >= 0)]"
      ],
      "metadata": {
        "id": "wcBQtd7lywst"
      },
      "execution_count": null,
      "outputs": []
    },
    {
      "cell_type": "code",
      "source": [
        "df.to_excel(\"cleaned_data.xlsx\", index=False)"
      ],
      "metadata": {
        "id": "lufAQjWPyxqL"
      },
      "execution_count": null,
      "outputs": []
    }
  ]
}